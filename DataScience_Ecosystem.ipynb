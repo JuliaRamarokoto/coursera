{
 "cells": [
  {
   "cell_type": "markdown",
   "id": "dcb0fb21-5dea-43d3-8f1d-96f6c418c489",
   "metadata": {},
   "source": [
    " # Data Science Tools and Ecosystem"
   ]
  },
  {
   "cell_type": "markdown",
   "id": "f82a3ba7-c822-4fca-9939-5a8b71a54350",
   "metadata": {},
   "source": [
    "In this notebook, Data Science Tools and Ecosystem are summarized."
   ]
  },
  {
   "cell_type": "markdown",
   "id": "5029522a-db8b-4b52-9cac-31bac74bf1ef",
   "metadata": {},
   "source": [
    "Some of the popular languages that Data Scientists use are:\n",
    "1. Python\n",
    "2. R\n",
    "3. SQL\n",
    "\n",
    "**Objectives:**\n",
    "- List Popular languages for Data Science\n",
    "- Learn the markdown in jupyter notebook\n",
    "- Learn how to use Git"
   ]
  },
  {
   "cell_type": "markdown",
   "id": "905a557c-18e5-4597-948e-155734398ae3",
   "metadata": {},
   "source": [
    "Some of the commonly used libraries used by Data Scientists include:\n",
    "1. Pandas\n",
    "2. Numpy\n",
    "3. Scikit-learn"
   ]
  },
  {
   "cell_type": "markdown",
   "id": "888c5449-6ad8-4985-8ff6-caa554537e82",
   "metadata": {},
   "source": [
    "|Data Science tools|\n",
    "|------------------|\n",
    "| Jupyter Notebook |\n",
    "| RStudio          |\n",
    "| Apache Zeppelin  |\n"
   ]
  },
  {
   "cell_type": "markdown",
   "id": "da6c0fcd-7323-43ef-917f-eb37b52a0f93",
   "metadata": {},
   "source": [
    "### Below are a few examples of evaluating arithmetic expressions in Python"
   ]
  },
  {
   "cell_type": "code",
   "execution_count": 15,
   "id": "d2dfed7b-5a8d-4d73-8eed-1e4fa05e758e",
   "metadata": {},
   "outputs": [
    {
     "data": {
      "text/plain": [
       "17"
      ]
     },
     "execution_count": 15,
     "metadata": {},
     "output_type": "execute_result"
    }
   ],
   "source": [
    "#This a simple arithmetic expression to mutiply then add integers\n",
    "(3*4)+5"
   ]
  },
  {
   "cell_type": "code",
   "execution_count": 17,
   "id": "ba919894-f648-40b1-9032-6601b4744d30",
   "metadata": {},
   "outputs": [
    {
     "data": {
      "text/plain": [
       "3.3333333333333335"
      ]
     },
     "execution_count": 17,
     "metadata": {},
     "output_type": "execute_result"
    }
   ],
   "source": [
    "# This will convert 200 minutes to hours by diving by 60\n",
    "200 / 60 "
   ]
  },
  {
   "cell_type": "markdown",
   "id": "8f6b557e-18a2-4e94-bfc9-3b13dae1ac38",
   "metadata": {},
   "source": [
    "## Author\n",
    "Julia R."
   ]
  },
  {
   "cell_type": "code",
   "execution_count": null,
   "id": "bdef1520-ffb2-4075-b288-1915c44fe661",
   "metadata": {},
   "outputs": [],
   "source": []
  }
 ],
 "metadata": {
  "kernelspec": {
   "display_name": "Python 3 (ipykernel)",
   "language": "python",
   "name": "python3"
  },
  "language_info": {
   "codemirror_mode": {
    "name": "ipython",
    "version": 3
   },
   "file_extension": ".py",
   "mimetype": "text/x-python",
   "name": "python",
   "nbconvert_exporter": "python",
   "pygments_lexer": "ipython3",
   "version": "3.12.4"
  }
 },
 "nbformat": 4,
 "nbformat_minor": 5
}
